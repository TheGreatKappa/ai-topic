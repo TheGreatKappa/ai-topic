{
 "cells": [
  {
   "cell_type": "markdown",
   "id": "4abbd1b9",
   "metadata": {},
   "source": [
    "## Table of Contents\n",
    "* [Introduction](#introduction)\n",
    "    * [What is Bias?](#what_is_bias)\n",
    "    * [Specific Bias Examples](#specific_bias_examples)\n",
    "    * [Noticing and Solving Bias Problems](#solving_bias_problems)\n",
    "* [Importing Libraries](#importing_libraries)\n",
    "* [Confirmation Bias](#confirmation_bias)\n",
    "* [Sampling Bias](#sampling_bias)\n",
    "    * [Setting weights](#setting_weights)\n",
    "* [Survivorship Bias](#survivorship_bias)\n",
    "* [Conclusion](#conclusion)"
   ]
  },
  {
   "cell_type": "markdown",
   "id": "fbd30726",
   "metadata": {},
   "source": [
    "# Introduction <a class=\"anchor\" id=\"introduction\"></a>"
   ]
  },
  {
   "cell_type": "markdown",
   "id": "3f55b793",
   "metadata": {},
   "source": [
    "Bias is a pervasive issue in data science that can lead to inaccurate results and flawed conclusions. My project will explore the concept of bias in data sets, list specific biases, and discuss how to notice and solve problems these biases can cause."
   ]
  },
  {
   "cell_type": "markdown",
   "id": "caba9b3d",
   "metadata": {},
   "source": [
    "### What is Bias? <a class=\"anchor\" id=\"what_is_bias\"></a>"
   ]
  },
  {
   "cell_type": "markdown",
   "id": "4da0b3a4",
   "metadata": {},
   "source": [
    "Bias referse to the presence of systematic errors in data that can skew the results of an analysis. These errors can arise from various sources, such as the data collection process, the data itself, or the analysis methods used. Biases can manifest in different forms, such as selection bias, confirmation bias, or sampling bias, to name a few."
   ]
  },
  {
   "cell_type": "markdown",
   "id": "e592fd25",
   "metadata": {},
   "source": [
    "### Specific Bias Examples <a class=\"anchor\" id=\"specific_bias_examples\"></a>"
   ]
  },
  {
   "cell_type": "markdown",
   "id": "374b7e87",
   "metadata": {},
   "source": [
    "Some specific biases that can occur in data sets are the following:\n",
    "- **Confirmation Bias:** Occurs when the analysis is designed to confirm pre-existing beliefs or hypotheses.\n",
    "\n",
    "\n",
    "- **Sampling Bias:** Occurs when some members of the intended population are less likely to be included than others. As a result, our sample is not representative of our population.\n",
    "\n",
    "- **Survivorship Bias:** Occurs when the analysis only considers the data that survived a particular process, ignoring the data that did not.\n"
   ]
  },
  {
   "cell_type": "markdown",
   "id": "52d2295f",
   "metadata": {},
   "source": [
    "### Noticing and Solving Bias Problems <a class=\"anchor\" id=\"solving_bias_problems\"></a>"
   ]
  },
  {
   "cell_type": "markdown",
   "id": "f46cdd73",
   "metadata": {},
   "source": [
    "To notice and solve problems caused by biases in data sets, it is important to take the following steps:\n",
    "- **Identify where the bias is coming from:** Determine the source of bias, such as the data collection process or the analysis methods used.\n",
    "\n",
    "- **Collect diverse data:** Collect data from diverse sources to make sure that the analysis is not skewed towards a specific group or perspective.\n",
    "\n",
    "- **Check for bias regularly:** Regularly check for bias throughout the analysis process to ensure that the results are accurate and as unbiased as it can be."
   ]
  },
  {
   "cell_type": "markdown",
   "id": "226191ea",
   "metadata": {},
   "source": [
    "In the following sections I will show how we can identify some sort of biases and some solutions to solve the problems these biases can cause."
   ]
  },
  {
   "cell_type": "markdown",
   "id": "b6ef9264",
   "metadata": {},
   "source": [
    "# Importing Libraries <a class=\"anchor\" id=\"importing_libraries\"></a>"
   ]
  },
  {
   "cell_type": "code",
   "execution_count": 1,
   "id": "18255bf6",
   "metadata": {},
   "outputs": [],
   "source": [
    "# importing the necessary libraries\n",
    "import pandas as pd\n",
    "import numpy as np\n",
    "import matplotlib.pyplot as plt\n",
    "import seaborn as sns"
   ]
  },
  {
   "cell_type": "markdown",
   "id": "907524fc",
   "metadata": {},
   "source": [
    "# Confirmation Bias <a class=\"anchor\" id=\"confirmation_bias\"></a>"
   ]
  },
  {
   "cell_type": "markdown",
   "id": "03d1ead3",
   "metadata": {},
   "source": [
    "Confirmation bias occurs when a specific belief or hypothees are overrepresented in our dataset.\n",
    "\n",
    "It is often unintentional but still can lead to poor decision-making in our research.\n",
    "\n",
    "For representation, I have chose a Tripadvisor dataset featuring hotel reviews categorized into ratings review by review."
   ]
  },
  {
   "cell_type": "code",
   "execution_count": 2,
   "id": "b4a088f8",
   "metadata": {},
   "outputs": [
    {
     "data": {
      "text/html": [
       "<div>\n",
       "<style scoped>\n",
       "    .dataframe tbody tr th:only-of-type {\n",
       "        vertical-align: middle;\n",
       "    }\n",
       "\n",
       "    .dataframe tbody tr th {\n",
       "        vertical-align: top;\n",
       "    }\n",
       "\n",
       "    .dataframe thead th {\n",
       "        text-align: right;\n",
       "    }\n",
       "</style>\n",
       "<table border=\"1\" class=\"dataframe\">\n",
       "  <thead>\n",
       "    <tr style=\"text-align: right;\">\n",
       "      <th></th>\n",
       "      <th>Review</th>\n",
       "      <th>Rating</th>\n",
       "    </tr>\n",
       "  </thead>\n",
       "  <tbody>\n",
       "    <tr>\n",
       "      <th>0</th>\n",
       "      <td>nice hotel expensive parking got good deal sta...</td>\n",
       "      <td>4</td>\n",
       "    </tr>\n",
       "    <tr>\n",
       "      <th>1</th>\n",
       "      <td>ok nothing special charge diamond member hilto...</td>\n",
       "      <td>2</td>\n",
       "    </tr>\n",
       "    <tr>\n",
       "      <th>2</th>\n",
       "      <td>nice rooms not 4* experience hotel monaco seat...</td>\n",
       "      <td>3</td>\n",
       "    </tr>\n",
       "    <tr>\n",
       "      <th>3</th>\n",
       "      <td>unique, great stay, wonderful time hotel monac...</td>\n",
       "      <td>5</td>\n",
       "    </tr>\n",
       "    <tr>\n",
       "      <th>4</th>\n",
       "      <td>great stay great stay, went seahawk game aweso...</td>\n",
       "      <td>5</td>\n",
       "    </tr>\n",
       "  </tbody>\n",
       "</table>\n",
       "</div>"
      ],
      "text/plain": [
       "                                              Review  Rating\n",
       "0  nice hotel expensive parking got good deal sta...       4\n",
       "1  ok nothing special charge diamond member hilto...       2\n",
       "2  nice rooms not 4* experience hotel monaco seat...       3\n",
       "3  unique, great stay, wonderful time hotel monac...       5\n",
       "4  great stay great stay, went seahawk game aweso...       5"
      ]
     },
     "execution_count": 2,
     "metadata": {},
     "output_type": "execute_result"
    }
   ],
   "source": [
    "# [https://www.kaggle.com/datasets/andrewmvd/trip-advisor-hotel-reviews]\n",
    "review_data = pd.read_csv('tripadvisor_hotel_reviews.csv')\n",
    "\n",
    "review_data.head()"
   ]
  },
  {
   "cell_type": "markdown",
   "id": "81aa8393",
   "metadata": {},
   "source": [
    "For easier understanding, let's create a sentiment column where we describe whether a review was positive or negative ratings-wise. According to my beliefs, if a scale of rating goes from 1 to 5 a 4 or higher grade should be considered as a positive review, while the others are rather negative."
   ]
  },
  {
   "cell_type": "code",
   "execution_count": 3,
   "id": "ac15c42a",
   "metadata": {},
   "outputs": [
    {
     "data": {
      "text/html": [
       "<div>\n",
       "<style scoped>\n",
       "    .dataframe tbody tr th:only-of-type {\n",
       "        vertical-align: middle;\n",
       "    }\n",
       "\n",
       "    .dataframe tbody tr th {\n",
       "        vertical-align: top;\n",
       "    }\n",
       "\n",
       "    .dataframe thead th {\n",
       "        text-align: right;\n",
       "    }\n",
       "</style>\n",
       "<table border=\"1\" class=\"dataframe\">\n",
       "  <thead>\n",
       "    <tr style=\"text-align: right;\">\n",
       "      <th></th>\n",
       "      <th>Review</th>\n",
       "      <th>Rating</th>\n",
       "      <th>Sentiment</th>\n",
       "    </tr>\n",
       "  </thead>\n",
       "  <tbody>\n",
       "    <tr>\n",
       "      <th>0</th>\n",
       "      <td>nice hotel expensive parking got good deal sta...</td>\n",
       "      <td>4</td>\n",
       "      <td>Positive</td>\n",
       "    </tr>\n",
       "    <tr>\n",
       "      <th>1</th>\n",
       "      <td>ok nothing special charge diamond member hilto...</td>\n",
       "      <td>2</td>\n",
       "      <td>Negative</td>\n",
       "    </tr>\n",
       "    <tr>\n",
       "      <th>2</th>\n",
       "      <td>nice rooms not 4* experience hotel monaco seat...</td>\n",
       "      <td>3</td>\n",
       "      <td>Negative</td>\n",
       "    </tr>\n",
       "    <tr>\n",
       "      <th>3</th>\n",
       "      <td>unique, great stay, wonderful time hotel monac...</td>\n",
       "      <td>5</td>\n",
       "      <td>Positive</td>\n",
       "    </tr>\n",
       "    <tr>\n",
       "      <th>4</th>\n",
       "      <td>great stay great stay, went seahawk game aweso...</td>\n",
       "      <td>5</td>\n",
       "      <td>Positive</td>\n",
       "    </tr>\n",
       "  </tbody>\n",
       "</table>\n",
       "</div>"
      ],
      "text/plain": [
       "                                              Review  Rating Sentiment\n",
       "0  nice hotel expensive parking got good deal sta...       4  Positive\n",
       "1  ok nothing special charge diamond member hilto...       2  Negative\n",
       "2  nice rooms not 4* experience hotel monaco seat...       3  Negative\n",
       "3  unique, great stay, wonderful time hotel monac...       5  Positive\n",
       "4  great stay great stay, went seahawk game aweso...       5  Positive"
      ]
     },
     "execution_count": 3,
     "metadata": {},
     "output_type": "execute_result"
    }
   ],
   "source": [
    "def categorize_sentiment(rating):\n",
    "    if rating >= 4:\n",
    "        return 'Positive'\n",
    "    else:\n",
    "        return 'Negative'\n",
    "    \n",
    "review_data['Sentiment'] = review_data['Rating'].apply(categorize_sentiment)\n",
    "\n",
    "review_data.head()"
   ]
  },
  {
   "cell_type": "markdown",
   "id": "0ca744c4",
   "metadata": {},
   "source": [
    "Let's check the reviews' distribution:"
   ]
  },
  {
   "cell_type": "code",
   "execution_count": 4,
   "id": "6b1f0e4e",
   "metadata": {},
   "outputs": [
    {
     "name": "stdout",
     "output_type": "stream",
     "text": [
      "Reviews distribution: Sentiment\n",
      "Positive    0.736567\n",
      "Negative    0.263433\n",
      "Name: proportion, dtype: float64\n"
     ]
    }
   ],
   "source": [
    "print('Reviews distribution:', review_data['Sentiment'].value_counts(normalize=True))"
   ]
  },
  {
   "cell_type": "markdown",
   "id": "a006ff3d",
   "metadata": {},
   "source": [
    "According to the distribution, positive reviews are kind of overrepresented, that could indicate the presence of confirmation bias. \n",
    "\n",
    "Confirmation bias itself does not necessarily mean that the data is invalid or unusable. However, it is important to mitigate its effects when analyzing the data or using it for predictions and such."
   ]
  },
  {
   "cell_type": "code",
   "execution_count": 5,
   "id": "5b9fdbb0",
   "metadata": {
    "scrolled": false
   },
   "outputs": [
    {
     "data": {
      "text/html": [
       "<div>\n",
       "<style scoped>\n",
       "    .dataframe tbody tr th:only-of-type {\n",
       "        vertical-align: middle;\n",
       "    }\n",
       "\n",
       "    .dataframe tbody tr th {\n",
       "        vertical-align: top;\n",
       "    }\n",
       "\n",
       "    .dataframe thead th {\n",
       "        text-align: right;\n",
       "    }\n",
       "</style>\n",
       "<table border=\"1\" class=\"dataframe\">\n",
       "  <thead>\n",
       "    <tr style=\"text-align: right;\">\n",
       "      <th></th>\n",
       "      <th>review</th>\n",
       "      <th>sentiment</th>\n",
       "    </tr>\n",
       "  </thead>\n",
       "  <tbody>\n",
       "    <tr>\n",
       "      <th>0</th>\n",
       "      <td>One of the other reviewers has mentioned that ...</td>\n",
       "      <td>positive</td>\n",
       "    </tr>\n",
       "    <tr>\n",
       "      <th>1</th>\n",
       "      <td>A wonderful little production. &lt;br /&gt;&lt;br /&gt;The...</td>\n",
       "      <td>positive</td>\n",
       "    </tr>\n",
       "    <tr>\n",
       "      <th>2</th>\n",
       "      <td>I thought this was a wonderful way to spend ti...</td>\n",
       "      <td>positive</td>\n",
       "    </tr>\n",
       "    <tr>\n",
       "      <th>3</th>\n",
       "      <td>Basically there's a family where a little boy ...</td>\n",
       "      <td>negative</td>\n",
       "    </tr>\n",
       "    <tr>\n",
       "      <th>4</th>\n",
       "      <td>Petter Mattei's \"Love in the Time of Money\" is...</td>\n",
       "      <td>positive</td>\n",
       "    </tr>\n",
       "  </tbody>\n",
       "</table>\n",
       "</div>"
      ],
      "text/plain": [
       "                                              review sentiment\n",
       "0  One of the other reviewers has mentioned that ...  positive\n",
       "1  A wonderful little production. <br /><br />The...  positive\n",
       "2  I thought this was a wonderful way to spend ti...  positive\n",
       "3  Basically there's a family where a little boy ...  negative\n",
       "4  Petter Mattei's \"Love in the Time of Money\" is...  positive"
      ]
     },
     "execution_count": 5,
     "metadata": {},
     "output_type": "execute_result"
    }
   ],
   "source": [
    "# example for a balanced dataset [https://www.kaggle.com/datasets/lakshmi25npathi/imdb-dataset-of-50k-movie-reviews/]\n",
    "imdb_data = pd.read_csv('IMDB Dataset.csv')\n",
    "\n",
    "imdb_data.head()"
   ]
  },
  {
   "cell_type": "code",
   "execution_count": 6,
   "id": "afc0260b",
   "metadata": {},
   "outputs": [
    {
     "name": "stdout",
     "output_type": "stream",
     "text": [
      "Reviews distribution: sentiment\n",
      "positive    0.5\n",
      "negative    0.5\n",
      "Name: proportion, dtype: float64\n"
     ]
    }
   ],
   "source": [
    "print('Reviews distribution:', imdb_data['sentiment'].value_counts(normalize=True))"
   ]
  },
  {
   "cell_type": "markdown",
   "id": "ad077a3f",
   "metadata": {},
   "source": [
    "The distrubution of positive and negative reviews are equal, that means the IMDB dataset is balanced an should be free of confirmation bias."
   ]
  },
  {
   "cell_type": "markdown",
   "id": "47f2a819",
   "metadata": {},
   "source": [
    "# Sampling Bias <a class=\"anchor\" id=\"sampling_bias\"></a>"
   ]
  },
  {
   "cell_type": "markdown",
   "id": "b17ec0e9",
   "metadata": {},
   "source": [
    "Sampling bias occurs when some members of a population are systematically more likely to be selected in a sample than others.\n",
    "<br>\n",
    "Let's go through an example of it:"
   ]
  },
  {
   "cell_type": "markdown",
   "id": "557efd47",
   "metadata": {},
   "source": [
    "Let's say we want to find the average weight of an English adult. By doing interviews for surveying people about their weight, we just happened to interview a lot more females than males. This would not be truly representative of the actual population as by sampling the collected data we would highly likely get a value smaller than expected, considering that the average female weight is lesser.\n",
    "\n",
    "We've unintenionnally introduced some sampling bias by biasing our selection towards females.\n",
    "\n",
    "According to a 2019 study, the average weight of an English female was 72.1 kilograms and male was 85.4 kilograms.\n",
    "Standard deviation of female and male weights are 11 and 15 kilograms.\n",
    "\n",
    "Let's assume we interviewed 6000 females and 2500 males.\n",
    "\n",
    "Let's plot our data:"
   ]
  },
  {
   "cell_type": "code",
   "execution_count": 7,
   "id": "fb5a8b76",
   "metadata": {},
   "outputs": [
    {
     "data": {
      "text/html": [
       "<div>\n",
       "<style scoped>\n",
       "    .dataframe tbody tr th:only-of-type {\n",
       "        vertical-align: middle;\n",
       "    }\n",
       "\n",
       "    .dataframe tbody tr th {\n",
       "        vertical-align: top;\n",
       "    }\n",
       "\n",
       "    .dataframe thead th {\n",
       "        text-align: right;\n",
       "    }\n",
       "</style>\n",
       "<table border=\"1\" class=\"dataframe\">\n",
       "  <thead>\n",
       "    <tr style=\"text-align: right;\">\n",
       "      <th></th>\n",
       "      <th>Gender</th>\n",
       "      <th>Weight</th>\n",
       "    </tr>\n",
       "  </thead>\n",
       "  <tbody>\n",
       "    <tr>\n",
       "      <th>0</th>\n",
       "      <td>F</td>\n",
       "      <td>88.300770</td>\n",
       "    </tr>\n",
       "    <tr>\n",
       "      <th>1</th>\n",
       "      <td>F</td>\n",
       "      <td>62.126556</td>\n",
       "    </tr>\n",
       "    <tr>\n",
       "      <th>2</th>\n",
       "      <td>F</td>\n",
       "      <td>44.265310</td>\n",
       "    </tr>\n",
       "    <tr>\n",
       "      <th>3</th>\n",
       "      <td>F</td>\n",
       "      <td>80.179632</td>\n",
       "    </tr>\n",
       "    <tr>\n",
       "      <th>4</th>\n",
       "      <td>F</td>\n",
       "      <td>75.853105</td>\n",
       "    </tr>\n",
       "    <tr>\n",
       "      <th>...</th>\n",
       "      <td>...</td>\n",
       "      <td>...</td>\n",
       "    </tr>\n",
       "    <tr>\n",
       "      <th>8745</th>\n",
       "      <td>M</td>\n",
       "      <td>101.885682</td>\n",
       "    </tr>\n",
       "    <tr>\n",
       "      <th>8746</th>\n",
       "      <td>M</td>\n",
       "      <td>62.224403</td>\n",
       "    </tr>\n",
       "    <tr>\n",
       "      <th>8747</th>\n",
       "      <td>M</td>\n",
       "      <td>66.850732</td>\n",
       "    </tr>\n",
       "    <tr>\n",
       "      <th>8748</th>\n",
       "      <td>M</td>\n",
       "      <td>75.799632</td>\n",
       "    </tr>\n",
       "    <tr>\n",
       "      <th>8749</th>\n",
       "      <td>M</td>\n",
       "      <td>70.425169</td>\n",
       "    </tr>\n",
       "  </tbody>\n",
       "</table>\n",
       "<p>8750 rows × 2 columns</p>\n",
       "</div>"
      ],
      "text/plain": [
       "     Gender      Weight\n",
       "0         F   88.300770\n",
       "1         F   62.126556\n",
       "2         F   44.265310\n",
       "3         F   80.179632\n",
       "4         F   75.853105\n",
       "...     ...         ...\n",
       "8745      M  101.885682\n",
       "8746      M   62.224403\n",
       "8747      M   66.850732\n",
       "8748      M   75.799632\n",
       "8749      M   70.425169\n",
       "\n",
       "[8750 rows x 2 columns]"
      ]
     },
     "execution_count": 7,
     "metadata": {},
     "output_type": "execute_result"
    }
   ],
   "source": [
    "female_weights = np.random.normal(loc=72.1, scale=11, size=6250)\n",
    "male_weights = np.random.normal(loc=85.4, scale=15, size=2500)\n",
    "\n",
    "all_weights = np.append(female_weights, male_weights)\n",
    "all_genders = ['F'] * 6250 + ['M'] * 2500\n",
    "\n",
    "weight_df = pd.DataFrame({'Gender': all_genders, 'Weight': all_weights})\n",
    "weight_df"
   ]
  },
  {
   "cell_type": "markdown",
   "id": "dedaa376",
   "metadata": {},
   "source": [
    "Let's plot our current distribution:"
   ]
  },
  {
   "cell_type": "code",
   "execution_count": 8,
   "id": "ee235165",
   "metadata": {},
   "outputs": [
    {
     "data": {
      "image/png": "[encoded data removed]",
      "text/plain": [
       "<Figure size 640x480 with 1 Axes>"
      ]
     },
     "metadata": {},
     "output_type": "display_data"
    }
   ],
   "source": [
    "import warnings\n",
    "warnings.filterwarnings('ignore')\n",
    "\n",
    "plt.figure()\n",
    "sns.distplot(pd.Series(female_weights, name = \"Weight(Kg)\"), hist = False, label = \"Females\",\n",
    "             color='pink', kde_kws={'linestyle': 'dotted'})\n",
    "sns.distplot(pd.Series(male_weights, name = \"Weight(Kg)\"), hist = False, label = \"Males\", \n",
    "             color = 'blue', kde_kws={'linestyle': 'dotted'})\n",
    "sns.distplot(all_weights, hist = False, label = \"All\", \n",
    "             color = 'green')\n",
    "\n",
    "plt.gca().set_ylabel('Density(scaled)')\n",
    "plt.gca().set_title('Distribution of weights - with sampling bias')\n",
    "plt.legend()\n",
    "plt.show()"
   ]
  },
  {
   "cell_type": "markdown",
   "id": "2a22d1e7",
   "metadata": {},
   "source": [
    "As we can see, the 'all' distribution follows the 'Females' distribution way closer than it should."
   ]
  },
  {
   "cell_type": "markdown",
   "id": "4400e412",
   "metadata": {},
   "source": [
    "### Setting weights <a class=\"anchor\" id=\"setting_weights\"></a>"
   ]
  },
  {
   "cell_type": "markdown",
   "id": "a5e406e6",
   "metadata": {},
   "source": [
    "Setting so-called 'weights' to the observation can solve this error. If we consider males as a weight of 1, females should be considered as 2500/6250 = 0.4"
   ]
  },
  {
   "cell_type": "code",
   "execution_count": 9,
   "id": "f60733d6",
   "metadata": {},
   "outputs": [
    {
     "data": {
      "text/html": [
       "<div>\n",
       "<style scoped>\n",
       "    .dataframe tbody tr th:only-of-type {\n",
       "        vertical-align: middle;\n",
       "    }\n",
       "\n",
       "    .dataframe tbody tr th {\n",
       "        vertical-align: top;\n",
       "    }\n",
       "\n",
       "    .dataframe thead th {\n",
       "        text-align: right;\n",
       "    }\n",
       "</style>\n",
       "<table border=\"1\" class=\"dataframe\">\n",
       "  <thead>\n",
       "    <tr style=\"text-align: right;\">\n",
       "      <th></th>\n",
       "      <th>Gender</th>\n",
       "      <th>Weight</th>\n",
       "      <th>Weight_correction</th>\n",
       "    </tr>\n",
       "  </thead>\n",
       "  <tbody>\n",
       "    <tr>\n",
       "      <th>0</th>\n",
       "      <td>F</td>\n",
       "      <td>88.300770</td>\n",
       "      <td>0.4</td>\n",
       "    </tr>\n",
       "    <tr>\n",
       "      <th>1</th>\n",
       "      <td>F</td>\n",
       "      <td>62.126556</td>\n",
       "      <td>0.4</td>\n",
       "    </tr>\n",
       "    <tr>\n",
       "      <th>2</th>\n",
       "      <td>F</td>\n",
       "      <td>44.265310</td>\n",
       "      <td>0.4</td>\n",
       "    </tr>\n",
       "    <tr>\n",
       "      <th>3</th>\n",
       "      <td>F</td>\n",
       "      <td>80.179632</td>\n",
       "      <td>0.4</td>\n",
       "    </tr>\n",
       "    <tr>\n",
       "      <th>4</th>\n",
       "      <td>F</td>\n",
       "      <td>75.853105</td>\n",
       "      <td>0.4</td>\n",
       "    </tr>\n",
       "  </tbody>\n",
       "</table>\n",
       "</div>"
      ],
      "text/plain": [
       "  Gender     Weight  Weight_correction\n",
       "0      F  88.300770                0.4\n",
       "1      F  62.126556                0.4\n",
       "2      F  44.265310                0.4\n",
       "3      F  80.179632                0.4\n",
       "4      F  75.853105                0.4"
      ]
     },
     "execution_count": 9,
     "metadata": {},
     "output_type": "execute_result"
    }
   ],
   "source": [
    "def set_weight(row):\n",
    "    if row['Gender'] == 'F':\n",
    "        row['Weight_correction'] = 0.4\n",
    "    else:\n",
    "        row['Weight_correction'] = 1\n",
    "    return row\n",
    "\n",
    "df_with_weights = weight_df.apply(set_weight, axis = 1)\n",
    "df_with_weights.head()"
   ]
  },
  {
   "cell_type": "markdown",
   "id": "fd637131",
   "metadata": {},
   "source": [
    "Pandas features a so-called 'sample' method which can be used to extract sub-samples of a dataframe yielding a more representative one for our measurements."
   ]
  },
  {
   "cell_type": "code",
   "execution_count": 10,
   "id": "b2d24248",
   "metadata": {},
   "outputs": [
    {
     "name": "stdout",
     "output_type": "stream",
     "text": [
      "Number of males:  963\n",
      "Number of females:  1037\n"
     ]
    }
   ],
   "source": [
    "sample = df_with_weights.sample(n=2000, weights='Weight_correction')\n",
    "print('Number of males: ', sample[sample.Gender == 'M'].shape[0])\n",
    "print('Number of females: ', sample[sample.Gender == 'F'].shape[0])"
   ]
  },
  {
   "cell_type": "markdown",
   "id": "5b11980a",
   "metadata": {},
   "source": [
    "Let's try distributing our sample distribution:"
   ]
  },
  {
   "cell_type": "code",
   "execution_count": 11,
   "id": "f2f0a371",
   "metadata": {},
   "outputs": [
    {
     "data": {
      "image/png": "[encoded data removed]",
      "text/plain": [
       "<Figure size 640x480 with 1 Axes>"
      ]
     },
     "metadata": {},
     "output_type": "display_data"
    }
   ],
   "source": [
    "plt.figure()\n",
    "sns.distplot(pd.Series(sample[sample.Gender == 'F'].Weight, name = \"Weight(Kg)\"), hist = False, label = \"Females\",\n",
    "             color='pink', kde_kws={'linestyle': 'dotted'})\n",
    "sns.distplot(pd.Series(sample[sample.Gender == 'M'].Weight, name = \"Weight(Kg)\"), hist = False, label = \"Males\", \n",
    "             color = 'blue', kde_kws={'linestyle': 'dotted'})\n",
    "sns.distplot(sample.Weight, hist = False, label = \"All\", \n",
    "             color = 'green')\n",
    "\n",
    "plt.gca().set_xlabel('Weight(Kg)')\n",
    "plt.gca().set_ylabel('Density(scaled)')\n",
    "plt.gca().set_title('Distribution of weights - with sample correction')\n",
    "plt.legend()\n",
    "plt.show()"
   ]
  },
  {
   "cell_type": "markdown",
   "id": "8c134ed6",
   "metadata": {},
   "source": [
    "There is many more aspects to consider, apart from gender we could also weight our observations on age, state or income for example."
   ]
  },
  {
   "cell_type": "markdown",
   "id": "cda53249",
   "metadata": {},
   "source": [
    "### Survivorship bias  <a class=\"anchor\" id=\"survivorship_bias\"></a>"
   ]
  },
  {
   "cell_type": "markdown",
   "id": "3cc799e3",
   "metadata": {},
   "source": [
    "Survivorship bias occurs when an analysis only considers the data that survived a particular process, ignoring the data that did not.\n",
    "\n",
    "In a classic example of survivorship bias, researchers during World War II were examining the returned American bomber planes to determine which areas needed reinforcement based on observed damage. \n",
    "\n",
    "However, an engineer realized that the worst-hit planes never came back. The initial research, which exclusively analyzed data from the returning planes, led to a misleading assessment due to the inherent survivorship bias.\n",
    "\n",
    "As a coding example, let's discuss about student tests."
   ]
  },
  {
   "cell_type": "code",
   "execution_count": 12,
   "id": "046dec78",
   "metadata": {},
   "outputs": [
    {
     "data": {
      "text/html": [
       "<div>\n",
       "<style scoped>\n",
       "    .dataframe tbody tr th:only-of-type {\n",
       "        vertical-align: middle;\n",
       "    }\n",
       "\n",
       "    .dataframe tbody tr th {\n",
       "        vertical-align: top;\n",
       "    }\n",
       "\n",
       "    .dataframe thead th {\n",
       "        text-align: right;\n",
       "    }\n",
       "</style>\n",
       "<table border=\"1\" class=\"dataframe\">\n",
       "  <thead>\n",
       "    <tr style=\"text-align: right;\">\n",
       "      <th></th>\n",
       "      <th>studentID</th>\n",
       "      <th>score</th>\n",
       "      <th>status</th>\n",
       "    </tr>\n",
       "  </thead>\n",
       "  <tbody>\n",
       "    <tr>\n",
       "      <th>0</th>\n",
       "      <td>1</td>\n",
       "      <td>71</td>\n",
       "      <td>Passed</td>\n",
       "    </tr>\n",
       "    <tr>\n",
       "      <th>1</th>\n",
       "      <td>2</td>\n",
       "      <td>13</td>\n",
       "      <td>Failed</td>\n",
       "    </tr>\n",
       "    <tr>\n",
       "      <th>2</th>\n",
       "      <td>3</td>\n",
       "      <td>60</td>\n",
       "      <td>Passed</td>\n",
       "    </tr>\n",
       "    <tr>\n",
       "      <th>3</th>\n",
       "      <td>4</td>\n",
       "      <td>76</td>\n",
       "      <td>Passed</td>\n",
       "    </tr>\n",
       "    <tr>\n",
       "      <th>4</th>\n",
       "      <td>5</td>\n",
       "      <td>91</td>\n",
       "      <td>Passed</td>\n",
       "    </tr>\n",
       "    <tr>\n",
       "      <th>...</th>\n",
       "      <td>...</td>\n",
       "      <td>...</td>\n",
       "      <td>...</td>\n",
       "    </tr>\n",
       "    <tr>\n",
       "      <th>995</th>\n",
       "      <td>996</td>\n",
       "      <td>24</td>\n",
       "      <td>Failed</td>\n",
       "    </tr>\n",
       "    <tr>\n",
       "      <th>996</th>\n",
       "      <td>997</td>\n",
       "      <td>55</td>\n",
       "      <td>Failed</td>\n",
       "    </tr>\n",
       "    <tr>\n",
       "      <th>997</th>\n",
       "      <td>998</td>\n",
       "      <td>87</td>\n",
       "      <td>Passed</td>\n",
       "    </tr>\n",
       "    <tr>\n",
       "      <th>998</th>\n",
       "      <td>999</td>\n",
       "      <td>82</td>\n",
       "      <td>Passed</td>\n",
       "    </tr>\n",
       "    <tr>\n",
       "      <th>999</th>\n",
       "      <td>1000</td>\n",
       "      <td>43</td>\n",
       "      <td>Failed</td>\n",
       "    </tr>\n",
       "  </tbody>\n",
       "</table>\n",
       "<p>1000 rows × 3 columns</p>\n",
       "</div>"
      ],
      "text/plain": [
       "     studentID  score  status\n",
       "0            1     71  Passed\n",
       "1            2     13  Failed\n",
       "2            3     60  Passed\n",
       "3            4     76  Passed\n",
       "4            5     91  Passed\n",
       "..         ...    ...     ...\n",
       "995        996     24  Failed\n",
       "996        997     55  Failed\n",
       "997        998     87  Passed\n",
       "998        999     82  Passed\n",
       "999       1000     43  Failed\n",
       "\n",
       "[1000 rows x 3 columns]"
      ]
     },
     "execution_count": 12,
     "metadata": {},
     "output_type": "execute_result"
    }
   ],
   "source": [
    "student_data = {\n",
    "    'studentID': range(1, 1001),\n",
    "    'score': np.random.randint(1, 101, 1000),\n",
    "}\n",
    "\n",
    "def categorize_score(score):\n",
    "    if score >= 60:\n",
    "        return 'Passed'\n",
    "    else:\n",
    "        return 'Failed'\n",
    "    \n",
    "test_df = pd.DataFrame(student_data)\n",
    "\n",
    "test_df['status'] = test_df['score'].apply(categorize_score)\n",
    "\n",
    "test_df"
   ]
  },
  {
   "cell_type": "code",
   "execution_count": 13,
   "id": "179e7c4a",
   "metadata": {},
   "outputs": [
    {
     "data": {
      "text/plain": [
       "status\n",
       "Failed    0.573\n",
       "Passed    0.427\n",
       "Name: proportion, dtype: float64"
      ]
     },
     "execution_count": 13,
     "metadata": {},
     "output_type": "execute_result"
    }
   ],
   "source": [
    "test_df['status'].value_counts(normalize=True)"
   ]
  },
  {
   "cell_type": "code",
   "execution_count": 14,
   "id": "1d59cec8",
   "metadata": {},
   "outputs": [
    {
     "data": {
      "image/png": "[encoded data removed]",
      "text/plain": [
       "<Figure size 640x480 with 1 Axes>"
      ]
     },
     "metadata": {},
     "output_type": "display_data"
    }
   ],
   "source": [
    "plt.figure()\n",
    "\n",
    "scores_passed = test_df[test_df['status'] == 'Passed']['score']\n",
    "\n",
    "score_counts = scores_passed.value_counts().sort_index()\n",
    "\n",
    "x_values = score_counts.index\n",
    "\n",
    "plt.plot(x_values, score_counts, color='blue', marker='o', linestyle='dotted', label='Count of Score')\n",
    "\n",
    "plt.title('Scores of Passed Students')\n",
    "plt.xlabel('Score')\n",
    "plt.ylabel('Count')\n",
    "plt.legend()\n",
    "plt.show()"
   ]
  },
  {
   "cell_type": "markdown",
   "id": "fb12e9d8",
   "metadata": {},
   "source": [
    "This plot shows the distribution of scores passed students managed to get on the test. However, by analyzing this data we are only looking at the 'survivors' (who passed the test) and ignoring the 'non-survivors' (the students who failed the test). This can lead to incorrect conclusions, for example about the average score of all test-takers."
   ]
  },
  {
   "cell_type": "code",
   "execution_count": 15,
   "id": "01754570",
   "metadata": {},
   "outputs": [
    {
     "name": "stdout",
     "output_type": "stream",
     "text": [
      "The average score of all test-takers: 51.2\n"
     ]
    }
   ],
   "source": [
    "print(f\"The average score of all test-takers: {round(test_df.score.mean(), 2)}\")"
   ]
  },
  {
   "cell_type": "markdown",
   "id": "2fafb241",
   "metadata": {},
   "source": [
    "### Conclusion  <a class=\"anchor\" id=\"conclusion\"></a>"
   ]
  },
  {
   "cell_type": "markdown",
   "id": "14f5e1a3",
   "metadata": {},
   "source": [
    "In conclusion, it is important to check for bias in our datasets regularly as our research can include them even in an unintentional way to skew the results of our analysis.\n",
    "\n",
    "While the presence of bias in our analyses is not inherently harmful, it is crucial to acknowledge the potential alterations it can introduce to our results. Being aware of bias allows us to assess its impact and, when necessary, implement mitigation strategies to ensure the accuracy and reliability of our findings."
   ]
  },
  {
   "cell_type": "code",
   "execution_count": null,
   "id": "28e2d9c8",
   "metadata": {},
   "outputs": [],
   "source": []
  }
 ],
 "metadata": {
  "kernelspec": {
   "display_name": "Python 3 (ipykernel)",
   "language": "python",
   "name": "python3"
  },
  "language_info": {
   "codemirror_mode": {
    "name": "ipython",
    "version": 3
   },
   "file_extension": ".py",
   "mimetype": "text/x-python",
   "name": "python",
   "nbconvert_exporter": "python",
   "pygments_lexer": "ipython3",
   "version": "3.11.5"
  }
 },
 "nbformat": 4,
 "nbformat_minor": 5
}
